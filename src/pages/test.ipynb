{
 "cells": [
  {
   "cell_type": "code",
   "execution_count": 4,
   "metadata": {},
   "outputs": [
    {
     "data": {
      "text/plain": [
       "['Retrievers (Labrador)',\n",
       " 'French Bulldogs',\n",
       " 'German Shepherd Dogs',\n",
       " 'Retrievers (Golden)',\n",
       " 'Bulldogs',\n",
       " 'Poodles',\n",
       " 'Beagles',\n",
       " 'Rottweilers',\n",
       " 'Pointers (German Shorthaired)',\n",
       " 'Dachshunds',\n",
       " 'Pembroke Welsh Corgis',\n",
       " 'Australian Shepherds',\n",
       " 'Yorkshire Terriers',\n",
       " 'Boxers',\n",
       " 'Great Danes',\n",
       " 'Siberian Huskies',\n",
       " 'Cavalier King Charles Spaniels',\n",
       " 'Doberman Pinschers',\n",
       " 'Miniature Schnauzers',\n",
       " 'Shih Tzu',\n",
       " 'Boston Terriers',\n",
       " 'Bernese Mountain Dogs',\n",
       " 'Pomeranians',\n",
       " 'Havanese',\n",
       " 'Cane Corso',\n",
       " 'Spaniels (English Springer)',\n",
       " 'Shetland Sheepdogs',\n",
       " 'Brittanys',\n",
       " 'Pugs',\n",
       " 'Spaniels (Cocker)',\n",
       " 'Miniature American Shepherds',\n",
       " 'Border Collies',\n",
       " 'Mastiffs',\n",
       " 'Chihuahuas',\n",
       " 'Vizslas',\n",
       " 'Basset Hounds',\n",
       " 'Belgian Malinois',\n",
       " 'Maltese',\n",
       " 'Weimaraners',\n",
       " 'Collies',\n",
       " 'Newfoundlands',\n",
       " 'Rhodesian Ridgebacks',\n",
       " 'Shiba Inu',\n",
       " 'West Highland White Terriers',\n",
       " 'Bichons Frises',\n",
       " 'Bloodhounds',\n",
       " 'Spaniels (English Cocker)',\n",
       " 'Akitas',\n",
       " 'Portuguese Water Dogs',\n",
       " 'Retrievers (Chesapeake Bay)',\n",
       " 'Dalmatians',\n",
       " 'St. Bernards',\n",
       " 'Papillons',\n",
       " 'Australian Cattle Dogs',\n",
       " 'Bullmastiffs',\n",
       " 'Samoyeds',\n",
       " 'Scottish Terriers',\n",
       " 'Soft Coated Wheaten Terriers',\n",
       " 'Whippets',\n",
       " 'Pointers (German Wirehaired)',\n",
       " 'Chinese Shar-Pei',\n",
       " 'Airedale Terriers',\n",
       " 'Wirehaired Pointing Griffons',\n",
       " 'Bull Terriers',\n",
       " 'Alaskan Malamutes',\n",
       " 'Cardigan Welsh Corgis',\n",
       " 'Giant Schnauzers',\n",
       " 'Old English Sheepdogs',\n",
       " 'Italian Greyhounds',\n",
       " 'Great Pyrenees',\n",
       " 'Dogues de Bordeaux',\n",
       " 'Russell Terriers',\n",
       " 'Cairn Terriers',\n",
       " 'Irish Wolfhounds',\n",
       " 'Setters (Irish)',\n",
       " 'Greater Swiss Mountain Dogs',\n",
       " 'Miniature Pinschers',\n",
       " 'Lhasa Apsos',\n",
       " 'Chinese Crested',\n",
       " 'Coton de Tulear',\n",
       " 'Staffordshire Bull Terriers',\n",
       " 'American Staffordshire Terriers',\n",
       " 'Rat Terriers',\n",
       " 'Chow Chows',\n",
       " 'Anatolian Shepherd Dogs',\n",
       " 'Basenjis',\n",
       " 'Spaniels (Boykin)',\n",
       " 'Lagotti Romagnoli',\n",
       " 'Brussels Griffons',\n",
       " 'Retrievers (Nova Scotia Duck Tolling)',\n",
       " 'Norwegian Elkhounds',\n",
       " 'Standard Schnauzers',\n",
       " 'Dogo Argentinos',\n",
       " 'Bouviers des Flandres',\n",
       " 'Pekingese',\n",
       " 'Keeshonden',\n",
       " 'Border Terriers',\n",
       " 'Leonbergers',\n",
       " 'Tibetan Terriers',\n",
       " 'Neapolitan Mastiffs',\n",
       " 'Setters (English)',\n",
       " 'Retrievers (Flat-Coated)',\n",
       " 'Borzois',\n",
       " 'Fox Terriers (Wire)',\n",
       " 'Miniature Bull Terriers',\n",
       " 'Belgian Tervuren',\n",
       " 'Setters (Gordon)',\n",
       " 'Silky Terriers',\n",
       " 'Norwich Terriers',\n",
       " 'Spinoni Italiani',\n",
       " 'Japanese Chin',\n",
       " 'Welsh Terriers',\n",
       " 'Toy Fox Terriers',\n",
       " 'Schipperkes',\n",
       " 'Parson Russell Terriers',\n",
       " 'Pointers',\n",
       " 'Belgian Sheepdogs',\n",
       " 'Tibetan Spaniels',\n",
       " 'American Eskimo Dogs',\n",
       " 'Irish Terriers',\n",
       " 'Beaucerons',\n",
       " 'Afghan Hounds',\n",
       " 'Boerboels',\n",
       " 'Fox Terriers (Smooth)',\n",
       " 'Bearded Collies',\n",
       " 'Black Russian Terriers',\n",
       " 'Black and Tan Coonhounds',\n",
       " 'Spaniels (Welsh Springer)',\n",
       " 'American Hairless Terriers',\n",
       " 'Norfolk Terriers',\n",
       " 'Xoloitzcuintli',\n",
       " 'Manchester Terriers',\n",
       " 'Kerry Blue Terriers',\n",
       " 'Australian Terriers',\n",
       " 'Spaniels (Clumber)',\n",
       " 'Lakeland Terriers',\n",
       " 'Bluetick Coonhounds',\n",
       " 'English Toy Spaniels',\n",
       " 'German Pinschers',\n",
       " 'Tibetan Mastiffs',\n",
       " 'Bedlington Terriers',\n",
       " 'Greyhounds',\n",
       " 'Pulik',\n",
       " 'Salukis',\n",
       " 'Barbets',\n",
       " 'Redbone Coonhounds',\n",
       " 'Swedish Vallhunds',\n",
       " 'Sealyham Terriers',\n",
       " 'Spanish Water Dogs',\n",
       " 'Briards',\n",
       " 'Berger Picards',\n",
       " 'Entlebucher Mountain Dogs',\n",
       " 'Treeing Walker Coonhounds',\n",
       " 'Icelandic Sheepdogs',\n",
       " 'Wirehaired Vizslas',\n",
       " 'Pumik',\n",
       " 'Portuguese Podengo Pequenos',\n",
       " 'Spaniels (American Water)',\n",
       " 'Retrievers (Curly-Coated)',\n",
       " 'Spaniels (Field)',\n",
       " 'Lowchen',\n",
       " 'Nederlandse Kooikerhondjes',\n",
       " 'Affenpinschers',\n",
       " 'Petits Bassets Griffons Vendeens',\n",
       " 'Finnish Lapphunds',\n",
       " 'Scottish Deerhounds',\n",
       " 'Plott Hounds',\n",
       " 'Norwegian Buhunds',\n",
       " 'Glen of Imaal Terriers',\n",
       " 'Setters (Irish Red and White)',\n",
       " 'Ibizan Hounds',\n",
       " 'Spaniels (Sussex)',\n",
       " 'Bergamasco Sheepdogs',\n",
       " 'Spaniels (Irish Water)',\n",
       " 'Polish Lowland Sheepdogs',\n",
       " 'Otterhounds',\n",
       " 'Kuvaszok',\n",
       " 'Komondorok',\n",
       " 'Cirnechi dell Etna',\n",
       " 'Pharaoh Hounds',\n",
       " 'Dandie Dinmont Terriers',\n",
       " 'Pyrenean Shepherds',\n",
       " 'Skye Terriers',\n",
       " 'Canaan Dogs',\n",
       " 'American English Coonhounds',\n",
       " 'Chinooks',\n",
       " 'Finnish Spitz',\n",
       " 'Grand Basset Griffon Vendeens',\n",
       " 'Sloughis',\n",
       " 'Harriers',\n",
       " 'Cesky Terriers',\n",
       " 'American Foxhounds',\n",
       " 'Azawakhs',\n",
       " 'English Foxhounds',\n",
       " 'Norwegian Lundehunds']"
      ]
     },
     "execution_count": 4,
     "metadata": {},
     "output_type": "execute_result"
    }
   ],
   "source": [
    "import pandas as pd\n",
    "import altair as alt\n",
    "\n",
    "rank = pd.read_csv(\"../../data/breed_rank.csv\")\n",
    "traits = pd.read_csv(\"../../data/breed_traits.csv\").T\n",
    "traits.columns = traits.iloc[0]\n",
    "traits[\"Traits\"] = traits.index\n",
    "traits = traits.reset_index().drop(index=[0,7,8]).sort_values(by='Dachshunds')\n",
    "\n",
    "chart = alt.Chart(traits).mark_bar().encode(\n",
    "        y=alt.Y(\"Traits\",sort = \"-x\"),\n",
    "        x=\"Dachshunds\"\n",
    "    )\n",
    "\n"
   ]
  },
  {
   "cell_type": "code",
   "execution_count": 4,
   "metadata": {},
   "outputs": [
    {
     "data": {
      "application/vnd.plotly.v1+json": {
       "config": {
        "plotlyServerURL": "https://plot.ly"
       },
       "data": [
        {
         "alignmentgroup": "True",
         "hovertemplate": "Dachshunds=%{x}<br>Traits=%{y}<extra></extra>",
         "legendgroup": "",
         "marker": {
          "color": "#636efa",
          "pattern": {
           "shape": ""
          }
         },
         "name": "",
         "offsetgroup": "",
         "orientation": "h",
         "showlegend": false,
         "textposition": "auto",
         "type": "bar",
         "x": [
          2,
          2,
          2,
          3,
          3,
          3,
          4,
          4,
          4,
          4,
          4,
          4,
          5,
          5
         ],
         "xaxis": "x",
         "y": [
          "Shedding Level",
          "Coat Grooming Frequency",
          "Drooling Level",
          "Good With Young Children",
          "Energy Level",
          "Mental Stimulation Needs",
          "Good With Other Dogs",
          "Openness To Strangers",
          "Playfulness Level",
          "Watchdog/Protective Nature",
          "Adaptability Level",
          "Trainability Level",
          "Affectionate With Family",
          "Barking Level"
         ],
         "yaxis": "y"
        }
       ],
       "layout": {
        "barmode": "relative",
        "legend": {
         "tracegroupgap": 0
        },
        "margin": {
         "t": 60
        },
        "template": {
         "data": {
          "bar": [
           {
            "error_x": {
             "color": "#2a3f5f"
            },
            "error_y": {
             "color": "#2a3f5f"
            },
            "marker": {
             "line": {
              "color": "#E5ECF6",
              "width": 0.5
             },
             "pattern": {
              "fillmode": "overlay",
              "size": 10,
              "solidity": 0.2
             }
            },
            "type": "bar"
           }
          ],
          "barpolar": [
           {
            "marker": {
             "line": {
              "color": "#E5ECF6",
              "width": 0.5
             },
             "pattern": {
              "fillmode": "overlay",
              "size": 10,
              "solidity": 0.2
             }
            },
            "type": "barpolar"
           }
          ],
          "carpet": [
           {
            "aaxis": {
             "endlinecolor": "#2a3f5f",
             "gridcolor": "white",
             "linecolor": "white",
             "minorgridcolor": "white",
             "startlinecolor": "#2a3f5f"
            },
            "baxis": {
             "endlinecolor": "#2a3f5f",
             "gridcolor": "white",
             "linecolor": "white",
             "minorgridcolor": "white",
             "startlinecolor": "#2a3f5f"
            },
            "type": "carpet"
           }
          ],
          "choropleth": [
           {
            "colorbar": {
             "outlinewidth": 0,
             "ticks": ""
            },
            "type": "choropleth"
           }
          ],
          "contour": [
           {
            "colorbar": {
             "outlinewidth": 0,
             "ticks": ""
            },
            "colorscale": [
             [
              0,
              "#0d0887"
             ],
             [
              0.1111111111111111,
              "#46039f"
             ],
             [
              0.2222222222222222,
              "#7201a8"
             ],
             [
              0.3333333333333333,
              "#9c179e"
             ],
             [
              0.4444444444444444,
              "#bd3786"
             ],
             [
              0.5555555555555556,
              "#d8576b"
             ],
             [
              0.6666666666666666,
              "#ed7953"
             ],
             [
              0.7777777777777778,
              "#fb9f3a"
             ],
             [
              0.8888888888888888,
              "#fdca26"
             ],
             [
              1,
              "#f0f921"
             ]
            ],
            "type": "contour"
           }
          ],
          "contourcarpet": [
           {
            "colorbar": {
             "outlinewidth": 0,
             "ticks": ""
            },
            "type": "contourcarpet"
           }
          ],
          "heatmap": [
           {
            "colorbar": {
             "outlinewidth": 0,
             "ticks": ""
            },
            "colorscale": [
             [
              0,
              "#0d0887"
             ],
             [
              0.1111111111111111,
              "#46039f"
             ],
             [
              0.2222222222222222,
              "#7201a8"
             ],
             [
              0.3333333333333333,
              "#9c179e"
             ],
             [
              0.4444444444444444,
              "#bd3786"
             ],
             [
              0.5555555555555556,
              "#d8576b"
             ],
             [
              0.6666666666666666,
              "#ed7953"
             ],
             [
              0.7777777777777778,
              "#fb9f3a"
             ],
             [
              0.8888888888888888,
              "#fdca26"
             ],
             [
              1,
              "#f0f921"
             ]
            ],
            "type": "heatmap"
           }
          ],
          "heatmapgl": [
           {
            "colorbar": {
             "outlinewidth": 0,
             "ticks": ""
            },
            "colorscale": [
             [
              0,
              "#0d0887"
             ],
             [
              0.1111111111111111,
              "#46039f"
             ],
             [
              0.2222222222222222,
              "#7201a8"
             ],
             [
              0.3333333333333333,
              "#9c179e"
             ],
             [
              0.4444444444444444,
              "#bd3786"
             ],
             [
              0.5555555555555556,
              "#d8576b"
             ],
             [
              0.6666666666666666,
              "#ed7953"
             ],
             [
              0.7777777777777778,
              "#fb9f3a"
             ],
             [
              0.8888888888888888,
              "#fdca26"
             ],
             [
              1,
              "#f0f921"
             ]
            ],
            "type": "heatmapgl"
           }
          ],
          "histogram": [
           {
            "marker": {
             "pattern": {
              "fillmode": "overlay",
              "size": 10,
              "solidity": 0.2
             }
            },
            "type": "histogram"
           }
          ],
          "histogram2d": [
           {
            "colorbar": {
             "outlinewidth": 0,
             "ticks": ""
            },
            "colorscale": [
             [
              0,
              "#0d0887"
             ],
             [
              0.1111111111111111,
              "#46039f"
             ],
             [
              0.2222222222222222,
              "#7201a8"
             ],
             [
              0.3333333333333333,
              "#9c179e"
             ],
             [
              0.4444444444444444,
              "#bd3786"
             ],
             [
              0.5555555555555556,
              "#d8576b"
             ],
             [
              0.6666666666666666,
              "#ed7953"
             ],
             [
              0.7777777777777778,
              "#fb9f3a"
             ],
             [
              0.8888888888888888,
              "#fdca26"
             ],
             [
              1,
              "#f0f921"
             ]
            ],
            "type": "histogram2d"
           }
          ],
          "histogram2dcontour": [
           {
            "colorbar": {
             "outlinewidth": 0,
             "ticks": ""
            },
            "colorscale": [
             [
              0,
              "#0d0887"
             ],
             [
              0.1111111111111111,
              "#46039f"
             ],
             [
              0.2222222222222222,
              "#7201a8"
             ],
             [
              0.3333333333333333,
              "#9c179e"
             ],
             [
              0.4444444444444444,
              "#bd3786"
             ],
             [
              0.5555555555555556,
              "#d8576b"
             ],
             [
              0.6666666666666666,
              "#ed7953"
             ],
             [
              0.7777777777777778,
              "#fb9f3a"
             ],
             [
              0.8888888888888888,
              "#fdca26"
             ],
             [
              1,
              "#f0f921"
             ]
            ],
            "type": "histogram2dcontour"
           }
          ],
          "mesh3d": [
           {
            "colorbar": {
             "outlinewidth": 0,
             "ticks": ""
            },
            "type": "mesh3d"
           }
          ],
          "parcoords": [
           {
            "line": {
             "colorbar": {
              "outlinewidth": 0,
              "ticks": ""
             }
            },
            "type": "parcoords"
           }
          ],
          "pie": [
           {
            "automargin": true,
            "type": "pie"
           }
          ],
          "scatter": [
           {
            "fillpattern": {
             "fillmode": "overlay",
             "size": 10,
             "solidity": 0.2
            },
            "type": "scatter"
           }
          ],
          "scatter3d": [
           {
            "line": {
             "colorbar": {
              "outlinewidth": 0,
              "ticks": ""
             }
            },
            "marker": {
             "colorbar": {
              "outlinewidth": 0,
              "ticks": ""
             }
            },
            "type": "scatter3d"
           }
          ],
          "scattercarpet": [
           {
            "marker": {
             "colorbar": {
              "outlinewidth": 0,
              "ticks": ""
             }
            },
            "type": "scattercarpet"
           }
          ],
          "scattergeo": [
           {
            "marker": {
             "colorbar": {
              "outlinewidth": 0,
              "ticks": ""
             }
            },
            "type": "scattergeo"
           }
          ],
          "scattergl": [
           {
            "marker": {
             "colorbar": {
              "outlinewidth": 0,
              "ticks": ""
             }
            },
            "type": "scattergl"
           }
          ],
          "scattermapbox": [
           {
            "marker": {
             "colorbar": {
              "outlinewidth": 0,
              "ticks": ""
             }
            },
            "type": "scattermapbox"
           }
          ],
          "scatterpolar": [
           {
            "marker": {
             "colorbar": {
              "outlinewidth": 0,
              "ticks": ""
             }
            },
            "type": "scatterpolar"
           }
          ],
          "scatterpolargl": [
           {
            "marker": {
             "colorbar": {
              "outlinewidth": 0,
              "ticks": ""
             }
            },
            "type": "scatterpolargl"
           }
          ],
          "scatterternary": [
           {
            "marker": {
             "colorbar": {
              "outlinewidth": 0,
              "ticks": ""
             }
            },
            "type": "scatterternary"
           }
          ],
          "surface": [
           {
            "colorbar": {
             "outlinewidth": 0,
             "ticks": ""
            },
            "colorscale": [
             [
              0,
              "#0d0887"
             ],
             [
              0.1111111111111111,
              "#46039f"
             ],
             [
              0.2222222222222222,
              "#7201a8"
             ],
             [
              0.3333333333333333,
              "#9c179e"
             ],
             [
              0.4444444444444444,
              "#bd3786"
             ],
             [
              0.5555555555555556,
              "#d8576b"
             ],
             [
              0.6666666666666666,
              "#ed7953"
             ],
             [
              0.7777777777777778,
              "#fb9f3a"
             ],
             [
              0.8888888888888888,
              "#fdca26"
             ],
             [
              1,
              "#f0f921"
             ]
            ],
            "type": "surface"
           }
          ],
          "table": [
           {
            "cells": {
             "fill": {
              "color": "#EBF0F8"
             },
             "line": {
              "color": "white"
             }
            },
            "header": {
             "fill": {
              "color": "#C8D4E3"
             },
             "line": {
              "color": "white"
             }
            },
            "type": "table"
           }
          ]
         },
         "layout": {
          "annotationdefaults": {
           "arrowcolor": "#2a3f5f",
           "arrowhead": 0,
           "arrowwidth": 1
          },
          "autotypenumbers": "strict",
          "coloraxis": {
           "colorbar": {
            "outlinewidth": 0,
            "ticks": ""
           }
          },
          "colorscale": {
           "diverging": [
            [
             0,
             "#8e0152"
            ],
            [
             0.1,
             "#c51b7d"
            ],
            [
             0.2,
             "#de77ae"
            ],
            [
             0.3,
             "#f1b6da"
            ],
            [
             0.4,
             "#fde0ef"
            ],
            [
             0.5,
             "#f7f7f7"
            ],
            [
             0.6,
             "#e6f5d0"
            ],
            [
             0.7,
             "#b8e186"
            ],
            [
             0.8,
             "#7fbc41"
            ],
            [
             0.9,
             "#4d9221"
            ],
            [
             1,
             "#276419"
            ]
           ],
           "sequential": [
            [
             0,
             "#0d0887"
            ],
            [
             0.1111111111111111,
             "#46039f"
            ],
            [
             0.2222222222222222,
             "#7201a8"
            ],
            [
             0.3333333333333333,
             "#9c179e"
            ],
            [
             0.4444444444444444,
             "#bd3786"
            ],
            [
             0.5555555555555556,
             "#d8576b"
            ],
            [
             0.6666666666666666,
             "#ed7953"
            ],
            [
             0.7777777777777778,
             "#fb9f3a"
            ],
            [
             0.8888888888888888,
             "#fdca26"
            ],
            [
             1,
             "#f0f921"
            ]
           ],
           "sequentialminus": [
            [
             0,
             "#0d0887"
            ],
            [
             0.1111111111111111,
             "#46039f"
            ],
            [
             0.2222222222222222,
             "#7201a8"
            ],
            [
             0.3333333333333333,
             "#9c179e"
            ],
            [
             0.4444444444444444,
             "#bd3786"
            ],
            [
             0.5555555555555556,
             "#d8576b"
            ],
            [
             0.6666666666666666,
             "#ed7953"
            ],
            [
             0.7777777777777778,
             "#fb9f3a"
            ],
            [
             0.8888888888888888,
             "#fdca26"
            ],
            [
             1,
             "#f0f921"
            ]
           ]
          },
          "colorway": [
           "#636efa",
           "#EF553B",
           "#00cc96",
           "#ab63fa",
           "#FFA15A",
           "#19d3f3",
           "#FF6692",
           "#B6E880",
           "#FF97FF",
           "#FECB52"
          ],
          "font": {
           "color": "#2a3f5f"
          },
          "geo": {
           "bgcolor": "white",
           "lakecolor": "white",
           "landcolor": "#E5ECF6",
           "showlakes": true,
           "showland": true,
           "subunitcolor": "white"
          },
          "hoverlabel": {
           "align": "left"
          },
          "hovermode": "closest",
          "mapbox": {
           "style": "light"
          },
          "paper_bgcolor": "white",
          "plot_bgcolor": "#E5ECF6",
          "polar": {
           "angularaxis": {
            "gridcolor": "white",
            "linecolor": "white",
            "ticks": ""
           },
           "bgcolor": "#E5ECF6",
           "radialaxis": {
            "gridcolor": "white",
            "linecolor": "white",
            "ticks": ""
           }
          },
          "scene": {
           "xaxis": {
            "backgroundcolor": "#E5ECF6",
            "gridcolor": "white",
            "gridwidth": 2,
            "linecolor": "white",
            "showbackground": true,
            "ticks": "",
            "zerolinecolor": "white"
           },
           "yaxis": {
            "backgroundcolor": "#E5ECF6",
            "gridcolor": "white",
            "gridwidth": 2,
            "linecolor": "white",
            "showbackground": true,
            "ticks": "",
            "zerolinecolor": "white"
           },
           "zaxis": {
            "backgroundcolor": "#E5ECF6",
            "gridcolor": "white",
            "gridwidth": 2,
            "linecolor": "white",
            "showbackground": true,
            "ticks": "",
            "zerolinecolor": "white"
           }
          },
          "shapedefaults": {
           "line": {
            "color": "#2a3f5f"
           }
          },
          "ternary": {
           "aaxis": {
            "gridcolor": "white",
            "linecolor": "white",
            "ticks": ""
           },
           "baxis": {
            "gridcolor": "white",
            "linecolor": "white",
            "ticks": ""
           },
           "bgcolor": "#E5ECF6",
           "caxis": {
            "gridcolor": "white",
            "linecolor": "white",
            "ticks": ""
           }
          },
          "title": {
           "x": 0.05
          },
          "xaxis": {
           "automargin": true,
           "gridcolor": "white",
           "linecolor": "white",
           "ticks": "",
           "title": {
            "standoff": 15
           },
           "zerolinecolor": "white",
           "zerolinewidth": 2
          },
          "yaxis": {
           "automargin": true,
           "gridcolor": "white",
           "linecolor": "white",
           "ticks": "",
           "title": {
            "standoff": 15
           },
           "zerolinecolor": "white",
           "zerolinewidth": 2
          }
         }
        },
        "xaxis": {
         "anchor": "y",
         "domain": [
          0,
          1
         ],
         "title": {
          "text": "Dachshunds"
         }
        },
        "yaxis": {
         "anchor": "x",
         "categoryarray": [
          "Shedding Level",
          "Coat Grooming Frequency",
          "Drooling Level",
          "Good With Young Children",
          "Energy Level",
          "Mental Stimulation Needs",
          "Good With Other Dogs",
          "Openness To Strangers",
          "Playfulness Level",
          "Watchdog/Protective Nature",
          "Adaptability Level",
          "Trainability Level",
          "Affectionate With Family",
          "Barking Level"
         ],
         "categoryorder": "array",
         "domain": [
          0,
          1
         ],
         "title": {
          "text": "Traits"
         }
        }
       }
      }
     },
     "metadata": {},
     "output_type": "display_data"
    }
   ],
   "source": [
    "import plotly.express as px\n",
    "\n",
    "fig = px.bar(traits, y='Traits', x='Dachshunds', orientation='h')\n",
    "fig.update_layout(yaxis={'categoryorder':'array', 'categoryarray':list(traits['Traits'])})\n",
    "fig.show()"
   ]
  },
  {
   "cell_type": "code",
   "execution_count": 10,
   "metadata": {},
   "outputs": [
    {
     "data": {
      "text/plain": [
       "9    https://www.akc.org/dog-breeds/dachshund/\n",
       "Name: links, dtype: object"
      ]
     },
     "execution_count": 10,
     "metadata": {},
     "output_type": "execute_result"
    }
   ],
   "source": [
    "rank[rank[\"Breed\"]==\"Dachshunds\"][\"links\"]"
   ]
  },
  {
   "cell_type": "code",
   "execution_count": 9,
   "metadata": {},
   "outputs": [
    {
     "data": {
      "text/html": [
       "<div>\n",
       "<style scoped>\n",
       "    .dataframe tbody tr th:only-of-type {\n",
       "        vertical-align: middle;\n",
       "    }\n",
       "\n",
       "    .dataframe tbody tr th {\n",
       "        vertical-align: top;\n",
       "    }\n",
       "\n",
       "    .dataframe thead th {\n",
       "        text-align: right;\n",
       "    }\n",
       "</style>\n",
       "<table border=\"1\" class=\"dataframe\">\n",
       "  <thead>\n",
       "    <tr style=\"text-align: right;\">\n",
       "      <th></th>\n",
       "      <th>Breed</th>\n",
       "      <th>2013_Rank</th>\n",
       "      <th>2014_Rank</th>\n",
       "      <th>2015_Rank</th>\n",
       "      <th>2016_Rank</th>\n",
       "      <th>2017_Rank</th>\n",
       "      <th>2018_Rank</th>\n",
       "      <th>2019_Rank</th>\n",
       "      <th>2020_Rank</th>\n",
       "      <th>links</th>\n",
       "      <th>Image</th>\n",
       "    </tr>\n",
       "  </thead>\n",
       "  <tbody>\n",
       "    <tr>\n",
       "      <th>0</th>\n",
       "      <td>Retrievers (Labrador)</td>\n",
       "      <td>1.0</td>\n",
       "      <td>1.0</td>\n",
       "      <td>1.0</td>\n",
       "      <td>1.0</td>\n",
       "      <td>1.0</td>\n",
       "      <td>1.0</td>\n",
       "      <td>1.0</td>\n",
       "      <td>1</td>\n",
       "      <td>https://www.akc.org/dog-breeds/labrador-retrie...</td>\n",
       "      <td>https://www.akc.org/wp-content/uploads/2017/11...</td>\n",
       "    </tr>\n",
       "    <tr>\n",
       "      <th>1</th>\n",
       "      <td>French Bulldogs</td>\n",
       "      <td>11.0</td>\n",
       "      <td>9.0</td>\n",
       "      <td>6.0</td>\n",
       "      <td>6.0</td>\n",
       "      <td>4.0</td>\n",
       "      <td>4.0</td>\n",
       "      <td>4.0</td>\n",
       "      <td>2</td>\n",
       "      <td>https://www.akc.org/dog-breeds/french-bulldog/</td>\n",
       "      <td>https://www.akc.org/wp-content/uploads/2017/11...</td>\n",
       "    </tr>\n",
       "    <tr>\n",
       "      <th>2</th>\n",
       "      <td>German Shepherd Dogs</td>\n",
       "      <td>2.0</td>\n",
       "      <td>2.0</td>\n",
       "      <td>2.0</td>\n",
       "      <td>2.0</td>\n",
       "      <td>2.0</td>\n",
       "      <td>2.0</td>\n",
       "      <td>2.0</td>\n",
       "      <td>3</td>\n",
       "      <td>https://www.akc.org/dog-breeds/german-shepherd...</td>\n",
       "      <td>https://www.akc.org/wp-content/uploads/2017/11...</td>\n",
       "    </tr>\n",
       "    <tr>\n",
       "      <th>3</th>\n",
       "      <td>Retrievers (Golden)</td>\n",
       "      <td>3.0</td>\n",
       "      <td>3.0</td>\n",
       "      <td>3.0</td>\n",
       "      <td>3.0</td>\n",
       "      <td>3.0</td>\n",
       "      <td>3.0</td>\n",
       "      <td>3.0</td>\n",
       "      <td>4</td>\n",
       "      <td>https://www.akc.org/dog-breeds/golden-retriever/</td>\n",
       "      <td>https://www.akc.org/wp-content/uploads/2017/11...</td>\n",
       "    </tr>\n",
       "    <tr>\n",
       "      <th>4</th>\n",
       "      <td>Bulldogs</td>\n",
       "      <td>5.0</td>\n",
       "      <td>4.0</td>\n",
       "      <td>4.0</td>\n",
       "      <td>4.0</td>\n",
       "      <td>5.0</td>\n",
       "      <td>5.0</td>\n",
       "      <td>5.0</td>\n",
       "      <td>5</td>\n",
       "      <td>https://www.akc.org/dog-breeds/bulldog/</td>\n",
       "      <td>https://www.akc.org/wp-content/uploads/2017/11...</td>\n",
       "    </tr>\n",
       "  </tbody>\n",
       "</table>\n",
       "</div>"
      ],
      "text/plain": [
       "                   Breed  2013_Rank  2014_Rank  2015_Rank  2016_Rank  \\\n",
       "0  Retrievers (Labrador)        1.0        1.0        1.0        1.0   \n",
       "1        French Bulldogs       11.0        9.0        6.0        6.0   \n",
       "2   German Shepherd Dogs        2.0        2.0        2.0        2.0   \n",
       "3    Retrievers (Golden)        3.0        3.0        3.0        3.0   \n",
       "4               Bulldogs        5.0        4.0        4.0        4.0   \n",
       "\n",
       "   2017_Rank  2018_Rank  2019_Rank  2020_Rank  \\\n",
       "0        1.0        1.0        1.0          1   \n",
       "1        4.0        4.0        4.0          2   \n",
       "2        2.0        2.0        2.0          3   \n",
       "3        3.0        3.0        3.0          4   \n",
       "4        5.0        5.0        5.0          5   \n",
       "\n",
       "                                               links  \\\n",
       "0  https://www.akc.org/dog-breeds/labrador-retrie...   \n",
       "1     https://www.akc.org/dog-breeds/french-bulldog/   \n",
       "2  https://www.akc.org/dog-breeds/german-shepherd...   \n",
       "3   https://www.akc.org/dog-breeds/golden-retriever/   \n",
       "4            https://www.akc.org/dog-breeds/bulldog/   \n",
       "\n",
       "                                               Image  \n",
       "0  https://www.akc.org/wp-content/uploads/2017/11...  \n",
       "1  https://www.akc.org/wp-content/uploads/2017/11...  \n",
       "2  https://www.akc.org/wp-content/uploads/2017/11...  \n",
       "3  https://www.akc.org/wp-content/uploads/2017/11...  \n",
       "4  https://www.akc.org/wp-content/uploads/2017/11...  "
      ]
     },
     "execution_count": 9,
     "metadata": {},
     "output_type": "execute_result"
    }
   ],
   "source": [
    "rank.head()"
   ]
  },
  {
   "cell_type": "code",
   "execution_count": 14,
   "metadata": {},
   "outputs": [],
   "source": [
    "traits = pd.read_csv(\"../../data/breed_traits.csv\")\n",
    "\n",
    "traits = traits.drop([\"Coat Type\", \"Coat Length\"], axis = 1).drop(df[\"Breed=='Plott Hounds'\"])"
   ]
  },
  {
   "cell_type": "code",
   "execution_count": 13,
   "metadata": {},
   "outputs": [
    {
     "data": {
      "text/html": [
       "<div>\n",
       "<style scoped>\n",
       "    .dataframe tbody tr th:only-of-type {\n",
       "        vertical-align: middle;\n",
       "    }\n",
       "\n",
       "    .dataframe tbody tr th {\n",
       "        vertical-align: top;\n",
       "    }\n",
       "\n",
       "    .dataframe thead th {\n",
       "        text-align: right;\n",
       "    }\n",
       "</style>\n",
       "<table border=\"1\" class=\"dataframe\">\n",
       "  <thead>\n",
       "    <tr style=\"text-align: right;\">\n",
       "      <th></th>\n",
       "      <th>Breed</th>\n",
       "      <th>Affectionate With Family</th>\n",
       "      <th>Good With Young Children</th>\n",
       "      <th>Good With Other Dogs</th>\n",
       "      <th>Shedding Level</th>\n",
       "      <th>Coat Grooming Frequency</th>\n",
       "      <th>Drooling Level</th>\n",
       "      <th>Openness To Strangers</th>\n",
       "      <th>Playfulness Level</th>\n",
       "      <th>Watchdog/Protective Nature</th>\n",
       "      <th>Adaptability Level</th>\n",
       "      <th>Trainability Level</th>\n",
       "      <th>Energy Level</th>\n",
       "      <th>Barking Level</th>\n",
       "      <th>Mental Stimulation Needs</th>\n",
       "    </tr>\n",
       "  </thead>\n",
       "  <tbody>\n",
       "    <tr>\n",
       "      <th>166</th>\n",
       "      <td>Plott Hounds</td>\n",
       "      <td>0</td>\n",
       "      <td>0</td>\n",
       "      <td>0</td>\n",
       "      <td>0</td>\n",
       "      <td>0</td>\n",
       "      <td>0</td>\n",
       "      <td>0</td>\n",
       "      <td>0</td>\n",
       "      <td>0</td>\n",
       "      <td>0</td>\n",
       "      <td>0</td>\n",
       "      <td>0</td>\n",
       "      <td>0</td>\n",
       "      <td>0</td>\n",
       "    </tr>\n",
       "    <tr>\n",
       "      <th>5</th>\n",
       "      <td>Poodles</td>\n",
       "      <td>5</td>\n",
       "      <td>5</td>\n",
       "      <td>3</td>\n",
       "      <td>1</td>\n",
       "      <td>4</td>\n",
       "      <td>1</td>\n",
       "      <td>5</td>\n",
       "      <td>5</td>\n",
       "      <td>5</td>\n",
       "      <td>4</td>\n",
       "      <td>5</td>\n",
       "      <td>4</td>\n",
       "      <td>4</td>\n",
       "      <td>5</td>\n",
       "    </tr>\n",
       "    <tr>\n",
       "      <th>12</th>\n",
       "      <td>Yorkshire Terriers</td>\n",
       "      <td>5</td>\n",
       "      <td>5</td>\n",
       "      <td>3</td>\n",
       "      <td>1</td>\n",
       "      <td>5</td>\n",
       "      <td>1</td>\n",
       "      <td>5</td>\n",
       "      <td>4</td>\n",
       "      <td>5</td>\n",
       "      <td>5</td>\n",
       "      <td>4</td>\n",
       "      <td>4</td>\n",
       "      <td>4</td>\n",
       "      <td>4</td>\n",
       "    </tr>\n",
       "    <tr>\n",
       "      <th>44</th>\n",
       "      <td>Bichons Frises</td>\n",
       "      <td>5</td>\n",
       "      <td>5</td>\n",
       "      <td>5</td>\n",
       "      <td>1</td>\n",
       "      <td>5</td>\n",
       "      <td>1</td>\n",
       "      <td>5</td>\n",
       "      <td>4</td>\n",
       "      <td>2</td>\n",
       "      <td>4</td>\n",
       "      <td>4</td>\n",
       "      <td>4</td>\n",
       "      <td>3</td>\n",
       "      <td>3</td>\n",
       "    </tr>\n",
       "    <tr>\n",
       "      <th>78</th>\n",
       "      <td>Chinese Crested</td>\n",
       "      <td>4</td>\n",
       "      <td>3</td>\n",
       "      <td>3</td>\n",
       "      <td>1</td>\n",
       "      <td>2</td>\n",
       "      <td>1</td>\n",
       "      <td>4</td>\n",
       "      <td>3</td>\n",
       "      <td>3</td>\n",
       "      <td>4</td>\n",
       "      <td>4</td>\n",
       "      <td>3</td>\n",
       "      <td>3</td>\n",
       "      <td>3</td>\n",
       "    </tr>\n",
       "    <tr>\n",
       "      <th>...</th>\n",
       "      <td>...</td>\n",
       "      <td>...</td>\n",
       "      <td>...</td>\n",
       "      <td>...</td>\n",
       "      <td>...</td>\n",
       "      <td>...</td>\n",
       "      <td>...</td>\n",
       "      <td>...</td>\n",
       "      <td>...</td>\n",
       "      <td>...</td>\n",
       "      <td>...</td>\n",
       "      <td>...</td>\n",
       "      <td>...</td>\n",
       "      <td>...</td>\n",
       "      <td>...</td>\n",
       "    </tr>\n",
       "    <tr>\n",
       "      <th>70</th>\n",
       "      <td>Dogues de Bordeaux</td>\n",
       "      <td>5</td>\n",
       "      <td>3</td>\n",
       "      <td>3</td>\n",
       "      <td>4</td>\n",
       "      <td>1</td>\n",
       "      <td>5</td>\n",
       "      <td>3</td>\n",
       "      <td>3</td>\n",
       "      <td>5</td>\n",
       "      <td>4</td>\n",
       "      <td>4</td>\n",
       "      <td>3</td>\n",
       "      <td>3</td>\n",
       "      <td>4</td>\n",
       "    </tr>\n",
       "    <tr>\n",
       "      <th>183</th>\n",
       "      <td>Canaan Dogs</td>\n",
       "      <td>3</td>\n",
       "      <td>3</td>\n",
       "      <td>3</td>\n",
       "      <td>4</td>\n",
       "      <td>2</td>\n",
       "      <td>1</td>\n",
       "      <td>3</td>\n",
       "      <td>3</td>\n",
       "      <td>4</td>\n",
       "      <td>3</td>\n",
       "      <td>4</td>\n",
       "      <td>3</td>\n",
       "      <td>5</td>\n",
       "      <td>3</td>\n",
       "    </tr>\n",
       "    <tr>\n",
       "      <th>120</th>\n",
       "      <td>Beaucerons</td>\n",
       "      <td>3</td>\n",
       "      <td>3</td>\n",
       "      <td>3</td>\n",
       "      <td>4</td>\n",
       "      <td>3</td>\n",
       "      <td>1</td>\n",
       "      <td>2</td>\n",
       "      <td>3</td>\n",
       "      <td>4</td>\n",
       "      <td>3</td>\n",
       "      <td>3</td>\n",
       "      <td>5</td>\n",
       "      <td>3</td>\n",
       "      <td>3</td>\n",
       "    </tr>\n",
       "    <tr>\n",
       "      <th>139</th>\n",
       "      <td>Tibetan Mastiffs</td>\n",
       "      <td>4</td>\n",
       "      <td>3</td>\n",
       "      <td>3</td>\n",
       "      <td>4</td>\n",
       "      <td>3</td>\n",
       "      <td>3</td>\n",
       "      <td>1</td>\n",
       "      <td>3</td>\n",
       "      <td>5</td>\n",
       "      <td>3</td>\n",
       "      <td>3</td>\n",
       "      <td>3</td>\n",
       "      <td>3</td>\n",
       "      <td>4</td>\n",
       "    </tr>\n",
       "    <tr>\n",
       "      <th>21</th>\n",
       "      <td>Bernese Mountain Dogs</td>\n",
       "      <td>5</td>\n",
       "      <td>5</td>\n",
       "      <td>5</td>\n",
       "      <td>5</td>\n",
       "      <td>3</td>\n",
       "      <td>3</td>\n",
       "      <td>4</td>\n",
       "      <td>4</td>\n",
       "      <td>3</td>\n",
       "      <td>4</td>\n",
       "      <td>4</td>\n",
       "      <td>4</td>\n",
       "      <td>3</td>\n",
       "      <td>3</td>\n",
       "    </tr>\n",
       "  </tbody>\n",
       "</table>\n",
       "<p>195 rows × 15 columns</p>\n",
       "</div>"
      ],
      "text/plain": [
       "                     Breed  Affectionate With Family  \\\n",
       "166           Plott Hounds                         0   \n",
       "5                  Poodles                         5   \n",
       "12      Yorkshire Terriers                         5   \n",
       "44          Bichons Frises                         5   \n",
       "78         Chinese Crested                         4   \n",
       "..                     ...                       ...   \n",
       "70      Dogues de Bordeaux                         5   \n",
       "183            Canaan Dogs                         3   \n",
       "120             Beaucerons                         3   \n",
       "139       Tibetan Mastiffs                         4   \n",
       "21   Bernese Mountain Dogs                         5   \n",
       "\n",
       "     Good With Young Children  Good With Other Dogs  Shedding Level  \\\n",
       "166                         0                     0               0   \n",
       "5                           5                     3               1   \n",
       "12                          5                     3               1   \n",
       "44                          5                     5               1   \n",
       "78                          3                     3               1   \n",
       "..                        ...                   ...             ...   \n",
       "70                          3                     3               4   \n",
       "183                         3                     3               4   \n",
       "120                         3                     3               4   \n",
       "139                         3                     3               4   \n",
       "21                          5                     5               5   \n",
       "\n",
       "     Coat Grooming Frequency  Drooling Level  Openness To Strangers  \\\n",
       "166                        0               0                      0   \n",
       "5                          4               1                      5   \n",
       "12                         5               1                      5   \n",
       "44                         5               1                      5   \n",
       "78                         2               1                      4   \n",
       "..                       ...             ...                    ...   \n",
       "70                         1               5                      3   \n",
       "183                        2               1                      3   \n",
       "120                        3               1                      2   \n",
       "139                        3               3                      1   \n",
       "21                         3               3                      4   \n",
       "\n",
       "     Playfulness Level  Watchdog/Protective Nature  Adaptability Level  \\\n",
       "166                  0                           0                   0   \n",
       "5                    5                           5                   4   \n",
       "12                   4                           5                   5   \n",
       "44                   4                           2                   4   \n",
       "78                   3                           3                   4   \n",
       "..                 ...                         ...                 ...   \n",
       "70                   3                           5                   4   \n",
       "183                  3                           4                   3   \n",
       "120                  3                           4                   3   \n",
       "139                  3                           5                   3   \n",
       "21                   4                           3                   4   \n",
       "\n",
       "     Trainability Level  Energy Level  Barking Level  Mental Stimulation Needs  \n",
       "166                   0             0              0                         0  \n",
       "5                     5             4              4                         5  \n",
       "12                    4             4              4                         4  \n",
       "44                    4             4              3                         3  \n",
       "78                    4             3              3                         3  \n",
       "..                  ...           ...            ...                       ...  \n",
       "70                    4             3              3                         4  \n",
       "183                   4             3              5                         3  \n",
       "120                   3             5              3                         3  \n",
       "139                   3             3              3                         4  \n",
       "21                    4             4              3                         3  \n",
       "\n",
       "[195 rows x 15 columns]"
      ]
     },
     "execution_count": 13,
     "metadata": {},
     "output_type": "execute_result"
    }
   ],
   "source": [
    "traits.sort_values([\"Shedding Level\", \"Openness To Strangers\", \"Good With Young Children\"], ascending = [True, False, False])"
   ]
  },
  {
   "cell_type": "code",
   "execution_count": null,
   "metadata": {},
   "outputs": [],
   "source": []
  }
 ],
 "metadata": {
  "kernelspec": {
   "display_name": "dataviz-532",
   "language": "python",
   "name": "python3"
  },
  "language_info": {
   "codemirror_mode": {
    "name": "ipython",
    "version": 3
   },
   "file_extension": ".py",
   "mimetype": "text/x-python",
   "name": "python",
   "nbconvert_exporter": "python",
   "pygments_lexer": "ipython3",
   "version": "3.11.0"
  },
  "orig_nbformat": 4
 },
 "nbformat": 4,
 "nbformat_minor": 2
}
